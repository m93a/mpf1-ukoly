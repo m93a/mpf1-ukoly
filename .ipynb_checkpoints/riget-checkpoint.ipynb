{
 "cells": [
  {
   "cell_type": "code",
   "execution_count": 46,
   "metadata": {},
   "outputs": [],
   "source": [
    "from __future__ import division\n",
    "import sys\n",
    "sys.path.insert(0, \"~/.local/lib/python3.6/site-packages\")\n",
    "\n",
    "import sympy\n",
    "from sympy import *\n",
    "from sympy.physics.quantum import *\n",
    "\n",
    "def express(a, b, name):\n",
    "    sym = symbols(name)\n",
    "    sol = solve(a-sym, b)\n",
    "    assert len(sol) == 1\n",
    "    return (sym, sol[0])\n",
    "\n",
    "def norm(vec):\n",
    "    return sqrt( vec.diff(x̂)**2 + vec.diff(ŷ)**2 + vec.diff(ẑ)**2 )\n",
    "\n",
    "def dd(sym):\n",
    "    f = Function('f')\n",
    "    deriv = DifferentialOperator(Derivative(f(sym), sym), f(x))\n",
    "    deriv._latex = lambda x: \"\\\\frac{{\\\\partial}}{{\\\\partial {0}}}\".format(latex(sym))\n",
    "    return deriv\n",
    "    "
   ]
  },
  {
   "cell_type": "code",
   "execution_count": 78,
   "metadata": {},
   "outputs": [],
   "source": [
    "r, φ = symbols('r phi', positive=True)\n",
    "x, y, z = symbols('x y z')\n",
    "\n",
    "x_ = r * cos(φ)\n",
    "y_ = r * sin(φ)\n",
    "z_ = z"
   ]
  },
  {
   "cell_type": "code",
   "execution_count": 92,
   "metadata": {},
   "outputs": [
    {
     "data": {
      "text/latex": [
       "$\\displaystyle r \\hat{x} \\cos{\\left(\\phi \\right)} + r \\hat{y} \\sin{\\left(\\phi \\right)} + z \\hat{z} = 0$"
      ],
      "text/plain": [
       "Eq(r*xhat*cos(phi) + r*yhat*sin(phi) + z*zhat, 0)"
      ]
     },
     "execution_count": 92,
     "metadata": {},
     "output_type": "execute_result"
    }
   ],
   "source": [
    "x̂, ŷ, ẑ = symbols('xhat yhat zhat')\n",
    "\n",
    "R = x*x̂ + y*ŷ + z*ẑ\n",
    "\n",
    "R_ = R.subs(x,x_).subs(y,y_).subs(z,z_)\n",
    "\n",
    "Eq(R_)"
   ]
  },
  {
   "cell_type": "code",
   "execution_count": 89,
   "metadata": {},
   "outputs": [
    {
     "data": {
      "text/latex": [
       "$\\displaystyle \\left[\\begin{matrix}1 & r & 1\\\\\\hat{x} \\cos{\\left(\\phi \\right)} + \\hat{y} \\sin{\\left(\\phi \\right)} & - \\hat{x} \\sin{\\left(\\phi \\right)} + \\hat{y} \\cos{\\left(\\phi \\right)} & \\hat{z}\\end{matrix}\\right]$"
      ],
      "text/plain": [
       "Matrix([\n",
       "[                            1,                              r,    1],\n",
       "[xhat*cos(phi) + yhat*sin(phi), -xhat*sin(phi) + yhat*cos(phi), zhat]])"
      ]
     },
     "execution_count": 89,
     "metadata": {},
     "output_type": "execute_result"
    }
   ],
   "source": [
    "er = R_.diff(r)\n",
    "eφ = R_.diff(φ)\n",
    "ez = R_.diff(z)\n",
    "\n",
    "hr = norm(er).simplify()\n",
    "hφ = norm(eφ).simplify()\n",
    "hz = norm(ez).simplify()\n",
    "\n",
    "r̂ = simplify( er/hr )\n",
    "φ̂ = simplify( eφ/hφ )\n",
    "ẑ = simplify( ez/hz )\n",
    "\n",
    "Matrix([[hr, hφ, hz],[r̂, φ̂, ẑ]])"
   ]
  },
  {
   "cell_type": "code",
   "execution_count": 83,
   "metadata": {},
   "outputs": [
    {
     "data": {
      "text/latex": [
       "$\\displaystyle \\nabla = \\hat{x} \\frac{\\partial}{\\partial x} + \\hat{y} \\frac{\\partial}{\\partial y} + \\hat{z} \\frac{\\partial}{\\partial z}$"
      ],
      "text/plain": [
       "Eq(\\nabla, xhat*DifferentialOperator(Derivative(f(x), x),f(x)) + yhat*DifferentialOperator(Derivative(f(y), y),f(x)) + zhat*DifferentialOperator(Derivative(f(z), z),f(x)))"
      ]
     },
     "execution_count": 83,
     "metadata": {},
     "output_type": "execute_result"
    }
   ],
   "source": [
    "ddx, ddy, ddz = dd(x), dd(y), dd(z)\n",
    "\n",
    "D = x̂ * ddx + ŷ * ddy + ẑ * ddz\n",
    "\n",
    "Eq(symbols('\\\\nabla'), D)"
   ]
  },
  {
   "cell_type": "code",
   "execution_count": 88,
   "metadata": {},
   "outputs": [
    {
     "data": {
      "text/latex": [
       "$\\displaystyle \\left[\\begin{matrix}\\sin{\\left(\\phi \\right)} \\frac{\\partial}{\\partial y} + \\cos{\\left(\\phi \\right)} \\frac{\\partial}{\\partial x} & - r \\sin{\\left(\\phi \\right)} \\frac{\\partial}{\\partial x} + r \\cos{\\left(\\phi \\right)} \\frac{\\partial}{\\partial y} & \\frac{\\partial}{\\partial z}\\end{matrix}\\right]$"
      ],
      "text/plain": [
       "Matrix([[sin(phi)*DifferentialOperator(Derivative(f(y), y),f(x)) + cos(phi)*DifferentialOperator(Derivative(f(x), x),f(x)), -r*sin(phi)*DifferentialOperator(Derivative(f(x), x),f(x)) + r*cos(phi)*DifferentialOperator(Derivative(f(y), y),f(x)), DifferentialOperator(Derivative(f(z), z),f(x))]])"
      ]
     },
     "execution_count": 88,
     "metadata": {},
     "output_type": "execute_result"
    }
   ],
   "source": [
    "ddr_ = x_.diff(r)*ddx + y_.diff(r)*ddy + z_.diff(r)*ddz\n",
    "ddφ_ = x_.diff(φ)*ddx + y_.diff(φ)*ddy + z_.diff(φ)*ddz\n",
    "ddz_ = x_.diff(z)*ddx + y_.diff(z)*ddy + z_.diff(z)*ddz\n",
    "Matrix([[ddr_, ddφ_, ddz_]])"
   ]
  },
  {
   "cell_type": "code",
   "execution_count": null,
   "metadata": {},
   "outputs": [],
   "source": []
  },
  {
   "cell_type": "code",
   "execution_count": null,
   "metadata": {},
   "outputs": [],
   "source": []
  },
  {
   "cell_type": "code",
   "execution_count": null,
   "metadata": {},
   "outputs": [],
   "source": []
  }
 ],
 "metadata": {
  "kernelspec": {
   "display_name": "Python 3",
   "language": "python",
   "name": "python3"
  },
  "language_info": {
   "codemirror_mode": {
    "name": "ipython",
    "version": 3
   },
   "file_extension": ".py",
   "mimetype": "text/x-python",
   "name": "python",
   "nbconvert_exporter": "python",
   "pygments_lexer": "ipython3",
   "version": "3.6.9"
  }
 },
 "nbformat": 4,
 "nbformat_minor": 2
}
