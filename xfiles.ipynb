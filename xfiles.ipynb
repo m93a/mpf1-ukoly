{
 "cells": [
  {
   "cell_type": "code",
   "execution_count": 1,
   "metadata": {},
   "outputs": [],
   "source": [
    "from __future__ import division\n",
    "import sys\n",
    "sys.path.insert(0, \"~/.local/lib/python3.6/site-packages\")\n",
    "\n",
    "import sympy\n",
    "from sympy import *\n",
    "from sympy.physics.quantum import *\n",
    "\n",
    "def express(a, b, name):\n",
    "    sym = symbols(name)\n",
    "    sol = solve(a-sym, b)\n",
    "    assert len(sol) == 1\n",
    "    return (sym, sol[0])"
   ]
  },
  {
   "cell_type": "code",
   "execution_count": 121,
   "metadata": {},
   "outputs": [],
   "source": [
    "t = Symbol('t')\n",
    "z = Symbol('zeta', is_positive=True)\n",
    "\n",
    "p1, p2, q1, q2 = symbols('p_1 p_2 q_1 q_2')\n",
    "p = Matrix([ p1, p2 ])\n",
    "q = Matrix([ q1, q2 ])\n",
    "\n",
    "H = p1**2 + p2**2 + q1**2 + q2**2\n",
    "\n",
    "v = Matrix([q1,q2,p1,p2])\n",
    "\n",
    "vdot = Matrix(\n",
    "    [ H.diff(pj) for pj in p ]+\n",
    "    [ H.diff(qj) - z*(H.diff(p1) - H.diff(p2)) for qj in q]\n",
    ")"
   ]
  },
  {
   "cell_type": "code",
   "execution_count": 122,
   "metadata": {},
   "outputs": [],
   "source": [
    "M = 2*Matrix([\n",
    "        [0, 0, 1, 0],\n",
    "        [0, 0, 0, 1],\n",
    "        [1, 0,-z, z],\n",
    "        [0, 1,-z, z]\n",
    "    ])\n",
    "\n",
    "assert ( M*v - vdot ).expand().is_zero"
   ]
  },
  {
   "cell_type": "code",
   "execution_count": null,
   "metadata": {},
   "outputs": [],
   "source": []
  },
  {
   "cell_type": "code",
   "execution_count": 123,
   "metadata": {},
   "outputs": [],
   "source": [
    "P, J = (t*M).jordan_form()\n",
    "J = simplify(J)\n",
    "P = simplify(P)\n",
    "P_inv = simplify(P.inv())\n",
    "\n",
    "assert simplify( P*J*P_inv - t*M ).is_zero"
   ]
  },
  {
   "cell_type": "code",
   "execution_count": 116,
   "metadata": {},
   "outputs": [
    {
     "name": "stdout",
     "output_type": "stream",
     "text": [
      "\\left[\\begin{matrix}t z & \\frac{z}{2} - 1 & - t z & \\frac{z}{2} + 1\\\\t z & \\frac{z}{2} & - t z & \\frac{z}{2}\\\\- t z & 1 & - t z & 1\\\\- t z & 0 & - t z & 0\\end{matrix}\\right]\n"
     ]
    }
   ],
   "source": [
    "print(latex(P))"
   ]
  },
  {
   "cell_type": "code",
   "execution_count": 117,
   "metadata": {},
   "outputs": [
    {
     "name": "stdout",
     "output_type": "stream",
     "text": [
      "\\left[\\begin{matrix}- 2 t & 1 & 0 & 0\\\\0 & - 2 t & 0 & 0\\\\0 & 0 & 2 t & 1\\\\0 & 0 & 0 & 2 t\\end{matrix}\\right]\n"
     ]
    }
   ],
   "source": [
    "print(latex(J))"
   ]
  },
  {
   "cell_type": "code",
   "execution_count": 118,
   "metadata": {},
   "outputs": [
    {
     "name": "stdout",
     "output_type": "stream",
     "text": [
      "\\left[\\begin{matrix}0 & \\frac{1}{2 t z} & - \\frac{1}{4 t} & \\frac{z - 2}{4 t z}\\\\- \\frac{1}{2} & \\frac{1}{2} & \\frac{1}{2} & - \\frac{1}{2}\\\\0 & - \\frac{1}{2 t z} & \\frac{1}{4 t} & - \\frac{z + 2}{4 t z}\\\\\\frac{1}{2} & - \\frac{1}{2} & \\frac{1}{2} & - \\frac{1}{2}\\end{matrix}\\right]\n"
     ]
    }
   ],
   "source": [
    "print(latex(P_inv))"
   ]
  },
  {
   "cell_type": "code",
   "execution_count": 119,
   "metadata": {},
   "outputs": [
    {
     "data": {
      "text/latex": [
       "$\\displaystyle \\left[\\begin{matrix}- 2 t & 1 & 0 & 0\\\\0 & - 2 t & 0 & 0\\\\0 & 0 & 2 t & 1\\\\0 & 0 & 0 & 2 t\\end{matrix}\\right]$"
      ],
      "text/plain": [
       "Matrix([\n",
       "[-2*t,    1,   0,   0],\n",
       "[   0, -2*t,   0,   0],\n",
       "[   0,    0, 2*t,   1],\n",
       "[   0,    0,   0, 2*t]])"
      ]
     },
     "execution_count": 119,
     "metadata": {},
     "output_type": "execute_result"
    }
   ],
   "source": [
    "J"
   ]
  },
  {
   "cell_type": "code",
   "execution_count": 120,
   "metadata": {},
   "outputs": [
    {
     "data": {
      "text/latex": [
       "$\\displaystyle \\left[\\begin{matrix}t z & \\frac{z}{2} - 1 & - t z & \\frac{z}{2} + 1\\\\t z & \\frac{z}{2} & - t z & \\frac{z}{2}\\\\- t z & 1 & - t z & 1\\\\- t z & 0 & - t z & 0\\end{matrix}\\right]$"
      ],
      "text/plain": [
       "Matrix([\n",
       "[ t*z, z/2 - 1, -t*z, z/2 + 1],\n",
       "[ t*z,     z/2, -t*z,     z/2],\n",
       "[-t*z,       1, -t*z,       1],\n",
       "[-t*z,       0, -t*z,       0]])"
      ]
     },
     "execution_count": 120,
     "metadata": {},
     "output_type": "execute_result"
    }
   ],
   "source": [
    "P"
   ]
  },
  {
   "cell_type": "code",
   "execution_count": null,
   "metadata": {},
   "outputs": [],
   "source": []
  },
  {
   "cell_type": "code",
   "execution_count": 125,
   "metadata": {},
   "outputs": [
    {
     "data": {
      "text/latex": [
       "$\\displaystyle \\left[\\begin{matrix}e^{- 2 t} & e^{- 2 t} & 0 & 0\\\\0 & e^{- 2 t} & 0 & 0\\\\0 & 0 & e^{2 t} & e^{2 t}\\\\0 & 0 & 0 & e^{2 t}\\end{matrix}\\right]$"
      ],
      "text/plain": [
       "Matrix([\n",
       "[exp(-2*t), exp(-2*t),        0,        0],\n",
       "[        0, exp(-2*t),        0,        0],\n",
       "[        0,         0, exp(2*t), exp(2*t)],\n",
       "[        0,         0,        0, exp(2*t)]])"
      ]
     },
     "execution_count": 125,
     "metadata": {},
     "output_type": "execute_result"
    }
   ],
   "source": [
    "Jexp = simplify(exp(J))\n",
    "Jexp"
   ]
  },
  {
   "cell_type": "code",
   "execution_count": 126,
   "metadata": {},
   "outputs": [
    {
     "name": "stdout",
     "output_type": "stream",
     "text": [
      "\\left[\\begin{matrix}e^{- 2 t} & e^{- 2 t} & 0 & 0\\\\0 & e^{- 2 t} & 0 & 0\\\\0 & 0 & e^{2 t} & e^{2 t}\\\\0 & 0 & 0 & e^{2 t}\\end{matrix}\\right]\n"
     ]
    }
   ],
   "source": [
    "print(latex(Jexp))"
   ]
  },
  {
   "cell_type": "code",
   "execution_count": null,
   "metadata": {},
   "outputs": [],
   "source": []
  },
  {
   "cell_type": "code",
   "execution_count": 128,
   "metadata": {},
   "outputs": [
    {
     "data": {
      "text/latex": [
       "$\\displaystyle \\left[\\begin{matrix}\\frac{\\left(- 2 t \\zeta - \\zeta + \\left(- 2 t \\zeta + \\zeta + 2\\right) e^{4 t} + 2\\right) e^{- 2 t}}{4} & \\frac{\\zeta \\left(2 t + \\left(2 t - 1\\right) e^{4 t} + 1\\right) e^{- 2 t}}{4} & \\frac{\\left(t \\zeta + \\left(- t \\zeta + 1\\right) e^{4 t} - 1\\right) e^{- 2 t}}{2} & t \\zeta \\sinh{\\left(2 t \\right)}\\\\\\frac{\\zeta \\left(- 2 t + \\left(1 - 2 t\\right) e^{4 t} - 1\\right) e^{- 2 t}}{4} & \\frac{\\left(2 t \\zeta + \\zeta + \\left(2 t \\zeta - \\zeta + 2\\right) e^{4 t} + 2\\right) e^{- 2 t}}{4} & - t \\zeta \\sinh{\\left(2 t \\right)} & \\frac{\\left(- t \\zeta + \\left(t \\zeta + 1\\right) e^{4 t} - 1\\right) e^{- 2 t}}{2}\\\\\\frac{\\left(t \\zeta + \\left(- t \\zeta + 1\\right) e^{4 t} - 1\\right) e^{- 2 t}}{2} & t \\zeta \\sinh{\\left(2 t \\right)} & \\frac{\\left(- 2 t \\zeta + \\zeta + \\left(- 2 t \\zeta - \\zeta + 2\\right) e^{4 t} + 2\\right) e^{- 2 t}}{4} & \\frac{\\zeta \\left(2 t + \\left(2 t + 1\\right) e^{4 t} - 1\\right) e^{- 2 t}}{4}\\\\- t \\zeta \\sinh{\\left(2 t \\right)} & \\frac{\\left(- t \\zeta + \\left(t \\zeta + 1\\right) e^{4 t} - 1\\right) e^{- 2 t}}{2} & \\frac{\\zeta \\left(- 2 t - \\left(2 t + 1\\right) e^{4 t} + 1\\right) e^{- 2 t}}{4} & \\frac{\\left(2 t \\zeta - \\zeta + \\left(2 t \\zeta + \\zeta + 2\\right) e^{4 t} + 2\\right) e^{- 2 t}}{4}\\end{matrix}\\right]$"
      ],
      "text/plain": [
       "Matrix([\n",
       "[(-2*t*zeta - zeta + (-2*t*zeta + zeta + 2)*exp(4*t) + 2)*exp(-2*t)/4,                    zeta*(2*t + (2*t - 1)*exp(4*t) + 1)*exp(-2*t)/4,                    (t*zeta + (-t*zeta + 1)*exp(4*t) - 1)*exp(-2*t)/2,                                                   t*zeta*sinh(2*t)],\n",
       "[                    zeta*(-2*t + (1 - 2*t)*exp(4*t) - 1)*exp(-2*t)/4, (2*t*zeta + zeta + (2*t*zeta - zeta + 2)*exp(4*t) + 2)*exp(-2*t)/4,                                                    -t*zeta*sinh(2*t),                  (-t*zeta + (t*zeta + 1)*exp(4*t) - 1)*exp(-2*t)/2],\n",
       "[                   (t*zeta + (-t*zeta + 1)*exp(4*t) - 1)*exp(-2*t)/2,                                                   t*zeta*sinh(2*t), (-2*t*zeta + zeta + (-2*t*zeta - zeta + 2)*exp(4*t) + 2)*exp(-2*t)/4,                    zeta*(2*t + (2*t + 1)*exp(4*t) - 1)*exp(-2*t)/4],\n",
       "[                                                   -t*zeta*sinh(2*t),                  (-t*zeta + (t*zeta + 1)*exp(4*t) - 1)*exp(-2*t)/2,                     zeta*(-2*t - (2*t + 1)*exp(4*t) + 1)*exp(-2*t)/4, (2*t*zeta - zeta + (2*t*zeta + zeta + 2)*exp(4*t) + 2)*exp(-2*t)/4]])"
      ]
     },
     "execution_count": 128,
     "metadata": {},
     "output_type": "execute_result"
    }
   ],
   "source": [
    "tMexp = simplify(P*Jexp*P_inv)\n",
    "tMexp"
   ]
  },
  {
   "cell_type": "code",
   "execution_count": 130,
   "metadata": {},
   "outputs": [
    {
     "data": {
      "text/latex": [
       "$\\displaystyle \\left[\\begin{matrix}\\cosh{\\left(2 t \\right)} & 0 & \\sinh{\\left(2 t \\right)} & 0\\\\0 & \\cosh{\\left(2 t \\right)} & 0 & \\sinh{\\left(2 t \\right)}\\\\\\sinh{\\left(2 t \\right)} & 0 & \\cosh{\\left(2 t \\right)} & 0\\\\0 & \\sinh{\\left(2 t \\right)} & 0 & \\cosh{\\left(2 t \\right)}\\end{matrix}\\right]$"
      ],
      "text/plain": [
       "Matrix([\n",
       "[cosh(2*t),         0, sinh(2*t),         0],\n",
       "[        0, cosh(2*t),         0, sinh(2*t)],\n",
       "[sinh(2*t),         0, cosh(2*t),         0],\n",
       "[        0, sinh(2*t),         0, cosh(2*t)]])"
      ]
     },
     "execution_count": 130,
     "metadata": {},
     "output_type": "execute_result"
    }
   ],
   "source": [
    "simplify(tMexp.subs(z,0))"
   ]
  },
  {
   "cell_type": "code",
   "execution_count": 131,
   "metadata": {},
   "outputs": [
    {
     "name": "stdout",
     "output_type": "stream",
     "text": [
      "\\left[\\begin{matrix}\\frac{\\left(- 2 t \\zeta - \\zeta + \\left(- 2 t \\zeta + \\zeta + 2\\right) e^{4 t} + 2\\right) e^{- 2 t}}{4} & \\frac{\\zeta \\left(2 t + \\left(2 t - 1\\right) e^{4 t} + 1\\right) e^{- 2 t}}{4} & \\frac{\\left(t \\zeta + \\left(- t \\zeta + 1\\right) e^{4 t} - 1\\right) e^{- 2 t}}{2} & t \\zeta \\sinh{\\left(2 t \\right)}\\\\\\frac{\\zeta \\left(- 2 t + \\left(1 - 2 t\\right) e^{4 t} - 1\\right) e^{- 2 t}}{4} & \\frac{\\left(2 t \\zeta + \\zeta + \\left(2 t \\zeta - \\zeta + 2\\right) e^{4 t} + 2\\right) e^{- 2 t}}{4} & - t \\zeta \\sinh{\\left(2 t \\right)} & \\frac{\\left(- t \\zeta + \\left(t \\zeta + 1\\right) e^{4 t} - 1\\right) e^{- 2 t}}{2}\\\\\\frac{\\left(t \\zeta + \\left(- t \\zeta + 1\\right) e^{4 t} - 1\\right) e^{- 2 t}}{2} & t \\zeta \\sinh{\\left(2 t \\right)} & \\frac{\\left(- 2 t \\zeta + \\zeta + \\left(- 2 t \\zeta - \\zeta + 2\\right) e^{4 t} + 2\\right) e^{- 2 t}}{4} & \\frac{\\zeta \\left(2 t + \\left(2 t + 1\\right) e^{4 t} - 1\\right) e^{- 2 t}}{4}\\\\- t \\zeta \\sinh{\\left(2 t \\right)} & \\frac{\\left(- t \\zeta + \\left(t \\zeta + 1\\right) e^{4 t} - 1\\right) e^{- 2 t}}{2} & \\frac{\\zeta \\left(- 2 t - \\left(2 t + 1\\right) e^{4 t} + 1\\right) e^{- 2 t}}{4} & \\frac{\\left(2 t \\zeta - \\zeta + \\left(2 t \\zeta + \\zeta + 2\\right) e^{4 t} + 2\\right) e^{- 2 t}}{4}\\end{matrix}\\right]\n"
     ]
    }
   ],
   "source": [
    "print(latex(tMexp))"
   ]
  },
  {
   "cell_type": "code",
   "execution_count": 132,
   "metadata": {},
   "outputs": [
    {
     "name": "stdout",
     "output_type": "stream",
     "text": [
      "\\left[\\begin{matrix}\\frac{\\left(2 e^{4 t} + 2\\right) e^{- 2 t}}{4} & 0 & \\frac{\\left(e^{4 t} - 1\\right) e^{- 2 t}}{2} & 0\\\\0 & \\frac{\\left(2 e^{4 t} + 2\\right) e^{- 2 t}}{4} & 0 & \\frac{\\left(e^{4 t} - 1\\right) e^{- 2 t}}{2}\\\\\\frac{\\left(e^{4 t} - 1\\right) e^{- 2 t}}{2} & 0 & \\frac{\\left(2 e^{4 t} + 2\\right) e^{- 2 t}}{4} & 0\\\\0 & \\frac{\\left(e^{4 t} - 1\\right) e^{- 2 t}}{2} & 0 & \\frac{\\left(2 e^{4 t} + 2\\right) e^{- 2 t}}{4}\\end{matrix}\\right]\n"
     ]
    }
   ],
   "source": [
    "print(latex(tMexp.subs(z,0)))"
   ]
  },
  {
   "cell_type": "code",
   "execution_count": null,
   "metadata": {},
   "outputs": [],
   "source": []
  }
 ],
 "metadata": {
  "kernelspec": {
   "display_name": "Python 3",
   "language": "python",
   "name": "python3"
  },
  "language_info": {
   "codemirror_mode": {
    "name": "ipython",
    "version": 3
   },
   "file_extension": ".py",
   "mimetype": "text/x-python",
   "name": "python",
   "nbconvert_exporter": "python",
   "pygments_lexer": "ipython3",
   "version": "3.6.9"
  }
 },
 "nbformat": 4,
 "nbformat_minor": 2
}
