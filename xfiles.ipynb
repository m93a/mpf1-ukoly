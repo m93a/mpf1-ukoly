{
 "cells": [
  {
   "cell_type": "code",
   "execution_count": 168,
   "metadata": {},
   "outputs": [],
   "source": [
    "from __future__ import division\n",
    "import sys\n",
    "sys.path.insert(0, \"~/.local/lib/python3.6/site-packages\")\n",
    "\n",
    "import sympy\n",
    "from sympy import *\n",
    "from sympy.physics.quantum import *\n",
    "\n",
    "def express(a, b, name):\n",
    "    sym = symbols(name)\n",
    "    sol = solve(a-sym, b)\n",
    "    assert len(sol) == 1\n",
    "    return (sym, sol[0])"
   ]
  },
  {
   "cell_type": "code",
   "execution_count": 191,
   "metadata": {},
   "outputs": [],
   "source": [
    "t = Symbol('t')\n",
    "z = Symbol('zeta', is_positive=True)\n",
    "\n",
    "p1, p2, q1, q2 = symbols('p_1 p_2 q_1 q_2')\n",
    "p = Matrix([ p1, p2 ])\n",
    "q = Matrix([ q1, q2 ])\n",
    "\n",
    "H = p1**2 + p2**2 + q1**2 + q2**2\n",
    "\n",
    "v = Matrix([q1,q2,p1,p2])\n",
    "\n",
    "vdot = Matrix(\n",
    "    [ H.diff(pj) for pj in p ]+\n",
    "    [ -H.diff(q1) - z*(H.diff(p1) - H.diff(p2)) ]+\n",
    "    [ -H.diff(q2) - z*(H.diff(p2) - H.diff(p1)) ]\n",
    ")"
   ]
  },
  {
   "cell_type": "code",
   "execution_count": 171,
   "metadata": {},
   "outputs": [],
   "source": [
    "M = 2*Matrix([\n",
    "        [0, 0, 1, 0],\n",
    "        [0, 0, 0, 1],\n",
    "        [-1, 0,-z, z],\n",
    "        [0, -1, z,-z]\n",
    "    ])\n",
    "\n",
    "assert ( M*v - vdot ).expand().is_zero"
   ]
  },
  {
   "cell_type": "code",
   "execution_count": null,
   "metadata": {},
   "outputs": [],
   "source": []
  },
  {
   "cell_type": "code",
   "execution_count": 172,
   "metadata": {},
   "outputs": [],
   "source": [
    "P, J = (t*M).jordan_form()\n",
    "J = simplify(J)\n",
    "P = simplify(P)\n",
    "P_inv = simplify(P.inv())\n",
    "\n",
    "assert simplify( P*J*P_inv - t*M ).is_zero"
   ]
  },
  {
   "cell_type": "code",
   "execution_count": 173,
   "metadata": {},
   "outputs": [
    {
     "name": "stdout",
     "output_type": "stream",
     "text": [
      "\\left[\\begin{matrix}i & - i & \\frac{1}{\\zeta + \\sqrt{\\zeta^{2} - 1}} & \\frac{1}{\\zeta - \\sqrt{\\zeta^{2} - 1}}\\\\i & - i & - \\frac{1}{\\zeta + \\sqrt{\\zeta^{2} - 1}} & \\frac{1}{- \\zeta + \\sqrt{\\zeta^{2} - 1}}\\\\1 & 1 & -1 & -1\\\\1 & 1 & 1 & 1\\end{matrix}\\right]\n"
     ]
    }
   ],
   "source": [
    "print(latex(P))"
   ]
  },
  {
   "cell_type": "code",
   "execution_count": 174,
   "metadata": {},
   "outputs": [
    {
     "name": "stdout",
     "output_type": "stream",
     "text": [
      "\\left[\\begin{matrix}- 2 i t & 0 & 0 & 0\\\\0 & 2 i t & 0 & 0\\\\0 & 0 & - 2 t \\left(\\zeta + \\sqrt{\\zeta^{2} - 1}\\right) & 0\\\\0 & 0 & 0 & 2 t \\left(- \\zeta + \\sqrt{\\zeta^{2} - 1}\\right)\\end{matrix}\\right]\n"
     ]
    }
   ],
   "source": [
    "print(latex(J))"
   ]
  },
  {
   "cell_type": "code",
   "execution_count": 176,
   "metadata": {},
   "outputs": [
    {
     "name": "stdout",
     "output_type": "stream",
     "text": [
      "1/4 \\left[\\begin{matrix}- i & - i & 1 & 1\\\\i & i & 1 & 1\\\\- \\frac{1}{\\sqrt{\\zeta^{2} - 1}} & \\frac{1}{\\sqrt{\\zeta^{2} - 1}} & - \\frac{\\zeta}{\\sqrt{\\zeta^{2} - 1}} - 1 & \\frac{\\zeta}{\\sqrt{\\zeta^{2} - 1}} + 1\\\\\\frac{1}{\\sqrt{\\zeta^{2} - 1}} & - \\frac{1}{\\sqrt{\\zeta^{2} - 1}} & \\frac{\\zeta}{\\sqrt{\\zeta^{2} - 1}} - 1 & - \\frac{\\zeta}{\\sqrt{\\zeta^{2} - 1}} + 1\\end{matrix}\\right]\n"
     ]
    }
   ],
   "source": [
    "print('1/4 '+latex(4*P_inv))"
   ]
  },
  {
   "cell_type": "code",
   "execution_count": 177,
   "metadata": {},
   "outputs": [
    {
     "data": {
      "text/latex": [
       "$\\displaystyle \\left[\\begin{matrix}- 2 i t & 0 & 0 & 0\\\\0 & 2 i t & 0 & 0\\\\0 & 0 & - 2 t \\left(\\zeta + \\sqrt{\\zeta^{2} - 1}\\right) & 0\\\\0 & 0 & 0 & 2 t \\left(- \\zeta + \\sqrt{\\zeta^{2} - 1}\\right)\\end{matrix}\\right]$"
      ],
      "text/plain": [
       "Matrix([\n",
       "[-2*I*t,     0,                               0,                               0],\n",
       "[     0, 2*I*t,                               0,                               0],\n",
       "[     0,     0, -2*t*(zeta + sqrt(zeta**2 - 1)),                               0],\n",
       "[     0,     0,                               0, 2*t*(-zeta + sqrt(zeta**2 - 1))]])"
      ]
     },
     "execution_count": 177,
     "metadata": {},
     "output_type": "execute_result"
    }
   ],
   "source": [
    "J"
   ]
  },
  {
   "cell_type": "code",
   "execution_count": 153,
   "metadata": {},
   "outputs": [
    {
     "data": {
      "text/latex": [
       "$\\displaystyle \\left[\\begin{matrix}-1 & 1 & \\frac{1}{\\zeta + \\sqrt{\\zeta^{2} + 1}} & \\frac{1}{\\zeta - \\sqrt{\\zeta^{2} + 1}}\\\\-1 & 1 & - \\frac{1}{\\zeta + \\sqrt{\\zeta^{2} + 1}} & \\frac{1}{- \\zeta + \\sqrt{\\zeta^{2} + 1}}\\\\1 & 1 & -1 & -1\\\\1 & 1 & 1 & 1\\end{matrix}\\right]$"
      ],
      "text/plain": [
       "Matrix([\n",
       "[-1, 1,  1/(zeta + sqrt(zeta**2 + 1)),  1/(zeta - sqrt(zeta**2 + 1))],\n",
       "[-1, 1, -1/(zeta + sqrt(zeta**2 + 1)), 1/(-zeta + sqrt(zeta**2 + 1))],\n",
       "[ 1, 1,                            -1,                            -1],\n",
       "[ 1, 1,                             1,                             1]])"
      ]
     },
     "execution_count": 153,
     "metadata": {},
     "output_type": "execute_result"
    }
   ],
   "source": [
    "P"
   ]
  },
  {
   "cell_type": "code",
   "execution_count": null,
   "metadata": {},
   "outputs": [],
   "source": []
  },
  {
   "cell_type": "code",
   "execution_count": 178,
   "metadata": {},
   "outputs": [
    {
     "data": {
      "text/latex": [
       "$\\displaystyle \\left[\\begin{matrix}e^{- 2 i t} & 0 & 0 & 0\\\\0 & e^{2 i t} & 0 & 0\\\\0 & 0 & e^{- 2 t \\left(\\zeta + \\sqrt{\\zeta^{2} - 1}\\right)} & 0\\\\0 & 0 & 0 & e^{- 2 t \\left(\\zeta - \\sqrt{\\zeta^{2} - 1}\\right)}\\end{matrix}\\right]$"
      ],
      "text/plain": [
       "Matrix([\n",
       "[exp(-2*I*t),          0,                                    0,                                    0],\n",
       "[          0, exp(2*I*t),                                    0,                                    0],\n",
       "[          0,          0, exp(-2*t*(zeta + sqrt(zeta**2 - 1))),                                    0],\n",
       "[          0,          0,                                    0, exp(-2*t*(zeta - sqrt(zeta**2 - 1)))]])"
      ]
     },
     "execution_count": 178,
     "metadata": {},
     "output_type": "execute_result"
    }
   ],
   "source": [
    "Jexp = simplify(exp(J))\n",
    "Jexp"
   ]
  },
  {
   "cell_type": "code",
   "execution_count": 179,
   "metadata": {},
   "outputs": [
    {
     "name": "stdout",
     "output_type": "stream",
     "text": [
      "\\left[\\begin{matrix}e^{- 2 i t} & 0 & 0 & 0\\\\0 & e^{2 i t} & 0 & 0\\\\0 & 0 & e^{- 2 t \\left(\\zeta + \\sqrt{\\zeta^{2} - 1}\\right)} & 0\\\\0 & 0 & 0 & e^{- 2 t \\left(\\zeta - \\sqrt{\\zeta^{2} - 1}\\right)}\\end{matrix}\\right]\n"
     ]
    }
   ],
   "source": [
    "print(latex(Jexp))"
   ]
  },
  {
   "cell_type": "code",
   "execution_count": null,
   "metadata": {},
   "outputs": [],
   "source": []
  },
  {
   "cell_type": "code",
   "execution_count": 180,
   "metadata": {},
   "outputs": [
    {
     "data": {
      "text/latex": [
       "$\\displaystyle \\left[\\begin{matrix}\\frac{e^{2 i t}}{4} + \\frac{e^{- 2 i t}}{4} - \\frac{e^{- 2 t \\left(\\zeta + \\sqrt{\\zeta^{2} - 1}\\right)}}{4 \\left(\\zeta + \\sqrt{\\zeta^{2} - 1}\\right) \\sqrt{\\zeta^{2} - 1}} + \\frac{e^{- 2 t \\left(\\zeta - \\sqrt{\\zeta^{2} - 1}\\right)}}{4 \\left(\\zeta - \\sqrt{\\zeta^{2} - 1}\\right) \\sqrt{\\zeta^{2} - 1}} & \\frac{e^{2 i t}}{4} + \\frac{e^{- 2 i t}}{4} + \\frac{e^{- 2 t \\left(\\zeta + \\sqrt{\\zeta^{2} - 1}\\right)}}{4 \\left(\\zeta + \\sqrt{\\zeta^{2} - 1}\\right) \\sqrt{\\zeta^{2} - 1}} - \\frac{e^{- 2 t \\left(\\zeta - \\sqrt{\\zeta^{2} - 1}\\right)}}{4 \\left(\\zeta - \\sqrt{\\zeta^{2} - 1}\\right) \\sqrt{\\zeta^{2} - 1}} & \\frac{\\left(i \\left(1 - \\zeta^{2}\\right) e^{4 t \\left(\\zeta + i\\right)} - \\sqrt{\\zeta^{2} - 1} e^{2 t \\left(\\zeta - \\sqrt{\\zeta^{2} - 1} + i\\right)} + \\sqrt{\\zeta^{2} - 1} e^{2 t \\left(\\zeta + \\sqrt{\\zeta^{2} - 1} + i\\right)} + i \\left(\\zeta^{2} - 1\\right) e^{4 t \\zeta}\\right) e^{- 2 t \\left(2 \\zeta + i\\right)}}{4 \\left(\\zeta^{2} - 1\\right)} & \\frac{\\left(i \\left(1 - \\zeta^{2}\\right) e^{4 t \\left(\\zeta + i\\right)} + \\sqrt{\\zeta^{2} - 1} e^{2 t \\left(\\zeta - \\sqrt{\\zeta^{2} - 1} + i\\right)} - \\sqrt{\\zeta^{2} - 1} e^{2 t \\left(\\zeta + \\sqrt{\\zeta^{2} - 1} + i\\right)} + i \\left(\\zeta^{2} - 1\\right) e^{4 t \\zeta}\\right) e^{- 2 t \\left(2 \\zeta + i\\right)}}{4 \\left(\\zeta^{2} - 1\\right)}\\\\\\frac{e^{2 i t}}{4} + \\frac{e^{- 2 i t}}{4} + \\frac{e^{- 2 t \\left(\\zeta + \\sqrt{\\zeta^{2} - 1}\\right)}}{4 \\left(\\zeta + \\sqrt{\\zeta^{2} - 1}\\right) \\sqrt{\\zeta^{2} - 1}} - \\frac{e^{- 2 t \\left(\\zeta - \\sqrt{\\zeta^{2} - 1}\\right)}}{4 \\left(\\zeta - \\sqrt{\\zeta^{2} - 1}\\right) \\sqrt{\\zeta^{2} - 1}} & \\frac{e^{2 i t}}{4} + \\frac{e^{- 2 i t}}{4} - \\frac{e^{- 2 t \\left(\\zeta + \\sqrt{\\zeta^{2} - 1}\\right)}}{4 \\left(\\zeta + \\sqrt{\\zeta^{2} - 1}\\right) \\sqrt{\\zeta^{2} - 1}} + \\frac{e^{- 2 t \\left(\\zeta - \\sqrt{\\zeta^{2} - 1}\\right)}}{4 \\left(\\zeta - \\sqrt{\\zeta^{2} - 1}\\right) \\sqrt{\\zeta^{2} - 1}} & \\frac{\\left(i \\left(1 - \\zeta^{2}\\right) e^{4 t \\left(\\zeta + i\\right)} + \\sqrt{\\zeta^{2} - 1} e^{2 t \\left(\\zeta - \\sqrt{\\zeta^{2} - 1} + i\\right)} - \\sqrt{\\zeta^{2} - 1} e^{2 t \\left(\\zeta + \\sqrt{\\zeta^{2} - 1} + i\\right)} + i \\left(\\zeta^{2} - 1\\right) e^{4 t \\zeta}\\right) e^{- 2 t \\left(2 \\zeta + i\\right)}}{4 \\left(\\zeta^{2} - 1\\right)} & \\frac{\\left(i \\left(1 - \\zeta^{2}\\right) e^{4 t \\left(\\zeta + i\\right)} - \\sqrt{\\zeta^{2} - 1} e^{2 t \\left(\\zeta - \\sqrt{\\zeta^{2} - 1} + i\\right)} + \\sqrt{\\zeta^{2} - 1} e^{2 t \\left(\\zeta + \\sqrt{\\zeta^{2} - 1} + i\\right)} + i \\left(\\zeta^{2} - 1\\right) e^{4 t \\zeta}\\right) e^{- 2 t \\left(2 \\zeta + i\\right)}}{4 \\left(\\zeta^{2} - 1\\right)}\\\\\\frac{\\left(i \\left(1 - \\zeta^{2}\\right) e^{4 t \\zeta} + \\sqrt{\\zeta^{2} - 1} e^{2 t \\left(\\zeta - \\sqrt{\\zeta^{2} - 1} + i\\right)} - \\sqrt{\\zeta^{2} - 1} e^{2 t \\left(\\zeta + \\sqrt{\\zeta^{2} - 1} + i\\right)} + i \\left(\\zeta^{2} - 1\\right) e^{4 t \\left(\\zeta + i\\right)}\\right) e^{- 2 t \\left(2 \\zeta + i\\right)}}{4 \\left(\\zeta^{2} - 1\\right)} & \\frac{\\left(i \\left(1 - \\zeta^{2}\\right) e^{4 t \\zeta} - \\sqrt{\\zeta^{2} - 1} e^{2 t \\left(\\zeta - \\sqrt{\\zeta^{2} - 1} + i\\right)} + \\sqrt{\\zeta^{2} - 1} e^{2 t \\left(\\zeta + \\sqrt{\\zeta^{2} - 1} + i\\right)} + i \\left(\\zeta^{2} - 1\\right) e^{4 t \\left(\\zeta + i\\right)}\\right) e^{- 2 t \\left(2 \\zeta + i\\right)}}{4 \\left(\\zeta^{2} - 1\\right)} & \\frac{\\left(\\left(- \\zeta + \\sqrt{\\zeta^{2} - 1}\\right) \\sqrt{\\zeta^{2} - 1} e^{2 t \\left(\\zeta + \\sqrt{\\zeta^{2} - 1} + i\\right)} + \\left(\\zeta + \\sqrt{\\zeta^{2} - 1}\\right) \\sqrt{\\zeta^{2} - 1} e^{2 t \\left(\\zeta - \\sqrt{\\zeta^{2} - 1} + i\\right)} + \\left(\\zeta^{2} - 1\\right) e^{4 t \\zeta} + \\left(\\zeta^{2} - 1\\right) e^{4 t \\left(\\zeta + i\\right)}\\right) e^{- 2 t \\left(2 \\zeta + i\\right)}}{4 \\left(\\zeta^{2} - 1\\right)} & \\frac{\\left(\\left(\\zeta - \\sqrt{\\zeta^{2} - 1}\\right) \\sqrt{\\zeta^{2} - 1} e^{2 t \\left(\\zeta + \\sqrt{\\zeta^{2} - 1} + i\\right)} - \\left(\\zeta + \\sqrt{\\zeta^{2} - 1}\\right) \\sqrt{\\zeta^{2} - 1} e^{2 t \\left(\\zeta - \\sqrt{\\zeta^{2} - 1} + i\\right)} + \\left(\\zeta^{2} - 1\\right) e^{4 t \\zeta} + \\left(\\zeta^{2} - 1\\right) e^{4 t \\left(\\zeta + i\\right)}\\right) e^{- 2 t \\left(2 \\zeta + i\\right)}}{4 \\left(\\zeta^{2} - 1\\right)}\\\\\\frac{\\left(i \\left(1 - \\zeta^{2}\\right) e^{4 t \\zeta} - \\sqrt{\\zeta^{2} - 1} e^{2 t \\left(\\zeta - \\sqrt{\\zeta^{2} - 1} + i\\right)} + \\sqrt{\\zeta^{2} - 1} e^{2 t \\left(\\zeta + \\sqrt{\\zeta^{2} - 1} + i\\right)} + i \\left(\\zeta^{2} - 1\\right) e^{4 t \\left(\\zeta + i\\right)}\\right) e^{- 2 t \\left(2 \\zeta + i\\right)}}{4 \\left(\\zeta^{2} - 1\\right)} & \\frac{\\left(i \\left(1 - \\zeta^{2}\\right) e^{4 t \\zeta} + \\sqrt{\\zeta^{2} - 1} e^{2 t \\left(\\zeta - \\sqrt{\\zeta^{2} - 1} + i\\right)} - \\sqrt{\\zeta^{2} - 1} e^{2 t \\left(\\zeta + \\sqrt{\\zeta^{2} - 1} + i\\right)} + i \\left(\\zeta^{2} - 1\\right) e^{4 t \\left(\\zeta + i\\right)}\\right) e^{- 2 t \\left(2 \\zeta + i\\right)}}{4 \\left(\\zeta^{2} - 1\\right)} & \\frac{\\left(\\left(\\zeta - \\sqrt{\\zeta^{2} - 1}\\right) \\sqrt{\\zeta^{2} - 1} e^{2 t \\left(\\zeta + \\sqrt{\\zeta^{2} - 1} + i\\right)} - \\left(\\zeta + \\sqrt{\\zeta^{2} - 1}\\right) \\sqrt{\\zeta^{2} - 1} e^{2 t \\left(\\zeta - \\sqrt{\\zeta^{2} - 1} + i\\right)} + \\left(\\zeta^{2} - 1\\right) e^{4 t \\zeta} + \\left(\\zeta^{2} - 1\\right) e^{4 t \\left(\\zeta + i\\right)}\\right) e^{- 2 t \\left(2 \\zeta + i\\right)}}{4 \\left(\\zeta^{2} - 1\\right)} & \\frac{\\left(\\left(- \\zeta + \\sqrt{\\zeta^{2} - 1}\\right) \\sqrt{\\zeta^{2} - 1} e^{2 t \\left(\\zeta + \\sqrt{\\zeta^{2} - 1} + i\\right)} + \\left(\\zeta + \\sqrt{\\zeta^{2} - 1}\\right) \\sqrt{\\zeta^{2} - 1} e^{2 t \\left(\\zeta - \\sqrt{\\zeta^{2} - 1} + i\\right)} + \\left(\\zeta^{2} - 1\\right) e^{4 t \\zeta} + \\left(\\zeta^{2} - 1\\right) e^{4 t \\left(\\zeta + i\\right)}\\right) e^{- 2 t \\left(2 \\zeta + i\\right)}}{4 \\left(\\zeta^{2} - 1\\right)}\\end{matrix}\\right]$"
      ],
      "text/plain": [
       "Matrix([\n",
       "[                          exp(2*I*t)/4 + exp(-2*I*t)/4 - exp(-2*t*(zeta + sqrt(zeta**2 - 1)))/(4*(zeta + sqrt(zeta**2 - 1))*sqrt(zeta**2 - 1)) + exp(-2*t*(zeta - sqrt(zeta**2 - 1)))/(4*(zeta - sqrt(zeta**2 - 1))*sqrt(zeta**2 - 1)),                           exp(2*I*t)/4 + exp(-2*I*t)/4 + exp(-2*t*(zeta + sqrt(zeta**2 - 1)))/(4*(zeta + sqrt(zeta**2 - 1))*sqrt(zeta**2 - 1)) - exp(-2*t*(zeta - sqrt(zeta**2 - 1)))/(4*(zeta - sqrt(zeta**2 - 1))*sqrt(zeta**2 - 1)),                                                    (I*(1 - zeta**2)*exp(4*t*(zeta + I)) - sqrt(zeta**2 - 1)*exp(2*t*(zeta - sqrt(zeta**2 - 1) + I)) + sqrt(zeta**2 - 1)*exp(2*t*(zeta + sqrt(zeta**2 - 1) + I)) + I*(zeta**2 - 1)*exp(4*t*zeta))*exp(-2*t*(2*zeta + I))/(4*(zeta**2 - 1)),                                                    (I*(1 - zeta**2)*exp(4*t*(zeta + I)) + sqrt(zeta**2 - 1)*exp(2*t*(zeta - sqrt(zeta**2 - 1) + I)) - sqrt(zeta**2 - 1)*exp(2*t*(zeta + sqrt(zeta**2 - 1) + I)) + I*(zeta**2 - 1)*exp(4*t*zeta))*exp(-2*t*(2*zeta + I))/(4*(zeta**2 - 1))],\n",
       "[                          exp(2*I*t)/4 + exp(-2*I*t)/4 + exp(-2*t*(zeta + sqrt(zeta**2 - 1)))/(4*(zeta + sqrt(zeta**2 - 1))*sqrt(zeta**2 - 1)) - exp(-2*t*(zeta - sqrt(zeta**2 - 1)))/(4*(zeta - sqrt(zeta**2 - 1))*sqrt(zeta**2 - 1)),                           exp(2*I*t)/4 + exp(-2*I*t)/4 - exp(-2*t*(zeta + sqrt(zeta**2 - 1)))/(4*(zeta + sqrt(zeta**2 - 1))*sqrt(zeta**2 - 1)) + exp(-2*t*(zeta - sqrt(zeta**2 - 1)))/(4*(zeta - sqrt(zeta**2 - 1))*sqrt(zeta**2 - 1)),                                                    (I*(1 - zeta**2)*exp(4*t*(zeta + I)) + sqrt(zeta**2 - 1)*exp(2*t*(zeta - sqrt(zeta**2 - 1) + I)) - sqrt(zeta**2 - 1)*exp(2*t*(zeta + sqrt(zeta**2 - 1) + I)) + I*(zeta**2 - 1)*exp(4*t*zeta))*exp(-2*t*(2*zeta + I))/(4*(zeta**2 - 1)),                                                    (I*(1 - zeta**2)*exp(4*t*(zeta + I)) - sqrt(zeta**2 - 1)*exp(2*t*(zeta - sqrt(zeta**2 - 1) + I)) + sqrt(zeta**2 - 1)*exp(2*t*(zeta + sqrt(zeta**2 - 1) + I)) + I*(zeta**2 - 1)*exp(4*t*zeta))*exp(-2*t*(2*zeta + I))/(4*(zeta**2 - 1))],\n",
       "[(I*(1 - zeta**2)*exp(4*t*zeta) + sqrt(zeta**2 - 1)*exp(2*t*(zeta - sqrt(zeta**2 - 1) + I)) - sqrt(zeta**2 - 1)*exp(2*t*(zeta + sqrt(zeta**2 - 1) + I)) + I*(zeta**2 - 1)*exp(4*t*(zeta + I)))*exp(-2*t*(2*zeta + I))/(4*(zeta**2 - 1)), (I*(1 - zeta**2)*exp(4*t*zeta) - sqrt(zeta**2 - 1)*exp(2*t*(zeta - sqrt(zeta**2 - 1) + I)) + sqrt(zeta**2 - 1)*exp(2*t*(zeta + sqrt(zeta**2 - 1) + I)) + I*(zeta**2 - 1)*exp(4*t*(zeta + I)))*exp(-2*t*(2*zeta + I))/(4*(zeta**2 - 1)), ((-zeta + sqrt(zeta**2 - 1))*sqrt(zeta**2 - 1)*exp(2*t*(zeta + sqrt(zeta**2 - 1) + I)) + (zeta + sqrt(zeta**2 - 1))*sqrt(zeta**2 - 1)*exp(2*t*(zeta - sqrt(zeta**2 - 1) + I)) + (zeta**2 - 1)*exp(4*t*zeta) + (zeta**2 - 1)*exp(4*t*(zeta + I)))*exp(-2*t*(2*zeta + I))/(4*(zeta**2 - 1)),  ((zeta - sqrt(zeta**2 - 1))*sqrt(zeta**2 - 1)*exp(2*t*(zeta + sqrt(zeta**2 - 1) + I)) - (zeta + sqrt(zeta**2 - 1))*sqrt(zeta**2 - 1)*exp(2*t*(zeta - sqrt(zeta**2 - 1) + I)) + (zeta**2 - 1)*exp(4*t*zeta) + (zeta**2 - 1)*exp(4*t*(zeta + I)))*exp(-2*t*(2*zeta + I))/(4*(zeta**2 - 1))],\n",
       "[(I*(1 - zeta**2)*exp(4*t*zeta) - sqrt(zeta**2 - 1)*exp(2*t*(zeta - sqrt(zeta**2 - 1) + I)) + sqrt(zeta**2 - 1)*exp(2*t*(zeta + sqrt(zeta**2 - 1) + I)) + I*(zeta**2 - 1)*exp(4*t*(zeta + I)))*exp(-2*t*(2*zeta + I))/(4*(zeta**2 - 1)), (I*(1 - zeta**2)*exp(4*t*zeta) + sqrt(zeta**2 - 1)*exp(2*t*(zeta - sqrt(zeta**2 - 1) + I)) - sqrt(zeta**2 - 1)*exp(2*t*(zeta + sqrt(zeta**2 - 1) + I)) + I*(zeta**2 - 1)*exp(4*t*(zeta + I)))*exp(-2*t*(2*zeta + I))/(4*(zeta**2 - 1)),  ((zeta - sqrt(zeta**2 - 1))*sqrt(zeta**2 - 1)*exp(2*t*(zeta + sqrt(zeta**2 - 1) + I)) - (zeta + sqrt(zeta**2 - 1))*sqrt(zeta**2 - 1)*exp(2*t*(zeta - sqrt(zeta**2 - 1) + I)) + (zeta**2 - 1)*exp(4*t*zeta) + (zeta**2 - 1)*exp(4*t*(zeta + I)))*exp(-2*t*(2*zeta + I))/(4*(zeta**2 - 1)), ((-zeta + sqrt(zeta**2 - 1))*sqrt(zeta**2 - 1)*exp(2*t*(zeta + sqrt(zeta**2 - 1) + I)) + (zeta + sqrt(zeta**2 - 1))*sqrt(zeta**2 - 1)*exp(2*t*(zeta - sqrt(zeta**2 - 1) + I)) + (zeta**2 - 1)*exp(4*t*zeta) + (zeta**2 - 1)*exp(4*t*(zeta + I)))*exp(-2*t*(2*zeta + I))/(4*(zeta**2 - 1))]])"
      ]
     },
     "execution_count": 180,
     "metadata": {},
     "output_type": "execute_result"
    }
   ],
   "source": [
    "tMexp = simplify(P*Jexp*P_inv)\n",
    "tMexpz0 = simplify(tMexp.subs(z,0))\n",
    "tMexp"
   ]
  },
  {
   "cell_type": "code",
   "execution_count": 181,
   "metadata": {},
   "outputs": [
    {
     "data": {
      "text/latex": [
       "$\\displaystyle \\left[\\begin{matrix}\\cos{\\left(2 t \\right)} & 0 & \\sin{\\left(2 t \\right)} & 0\\\\0 & \\cos{\\left(2 t \\right)} & 0 & \\sin{\\left(2 t \\right)}\\\\- \\sin{\\left(2 t \\right)} & 0 & \\cos{\\left(2 t \\right)} & 0\\\\0 & - \\sin{\\left(2 t \\right)} & 0 & \\cos{\\left(2 t \\right)}\\end{matrix}\\right]$"
      ],
      "text/plain": [
       "Matrix([\n",
       "[ cos(2*t),         0, sin(2*t),        0],\n",
       "[        0,  cos(2*t),        0, sin(2*t)],\n",
       "[-sin(2*t),         0, cos(2*t),        0],\n",
       "[        0, -sin(2*t),        0, cos(2*t)]])"
      ]
     },
     "execution_count": 181,
     "metadata": {},
     "output_type": "execute_result"
    }
   ],
   "source": [
    "tMexpz0"
   ]
  },
  {
   "cell_type": "code",
   "execution_count": 182,
   "metadata": {},
   "outputs": [
    {
     "name": "stdout",
     "output_type": "stream",
     "text": [
      "\\left[\\begin{matrix}\\frac{e^{2 i t}}{4} + \\frac{e^{- 2 i t}}{4} - \\frac{e^{- 2 t \\left(\\zeta + \\sqrt{\\zeta^{2} - 1}\\right)}}{4 \\left(\\zeta + \\sqrt{\\zeta^{2} - 1}\\right) \\sqrt{\\zeta^{2} - 1}} + \\frac{e^{- 2 t \\left(\\zeta - \\sqrt{\\zeta^{2} - 1}\\right)}}{4 \\left(\\zeta - \\sqrt{\\zeta^{2} - 1}\\right) \\sqrt{\\zeta^{2} - 1}} & \\frac{e^{2 i t}}{4} + \\frac{e^{- 2 i t}}{4} + \\frac{e^{- 2 t \\left(\\zeta + \\sqrt{\\zeta^{2} - 1}\\right)}}{4 \\left(\\zeta + \\sqrt{\\zeta^{2} - 1}\\right) \\sqrt{\\zeta^{2} - 1}} - \\frac{e^{- 2 t \\left(\\zeta - \\sqrt{\\zeta^{2} - 1}\\right)}}{4 \\left(\\zeta - \\sqrt{\\zeta^{2} - 1}\\right) \\sqrt{\\zeta^{2} - 1}} & \\frac{\\left(i \\left(1 - \\zeta^{2}\\right) e^{4 t \\left(\\zeta + i\\right)} - \\sqrt{\\zeta^{2} - 1} e^{2 t \\left(\\zeta - \\sqrt{\\zeta^{2} - 1} + i\\right)} + \\sqrt{\\zeta^{2} - 1} e^{2 t \\left(\\zeta + \\sqrt{\\zeta^{2} - 1} + i\\right)} + i \\left(\\zeta^{2} - 1\\right) e^{4 t \\zeta}\\right) e^{- 2 t \\left(2 \\zeta + i\\right)}}{4 \\left(\\zeta^{2} - 1\\right)} & \\frac{\\left(i \\left(1 - \\zeta^{2}\\right) e^{4 t \\left(\\zeta + i\\right)} + \\sqrt{\\zeta^{2} - 1} e^{2 t \\left(\\zeta - \\sqrt{\\zeta^{2} - 1} + i\\right)} - \\sqrt{\\zeta^{2} - 1} e^{2 t \\left(\\zeta + \\sqrt{\\zeta^{2} - 1} + i\\right)} + i \\left(\\zeta^{2} - 1\\right) e^{4 t \\zeta}\\right) e^{- 2 t \\left(2 \\zeta + i\\right)}}{4 \\left(\\zeta^{2} - 1\\right)}\\\\\\frac{e^{2 i t}}{4} + \\frac{e^{- 2 i t}}{4} + \\frac{e^{- 2 t \\left(\\zeta + \\sqrt{\\zeta^{2} - 1}\\right)}}{4 \\left(\\zeta + \\sqrt{\\zeta^{2} - 1}\\right) \\sqrt{\\zeta^{2} - 1}} - \\frac{e^{- 2 t \\left(\\zeta - \\sqrt{\\zeta^{2} - 1}\\right)}}{4 \\left(\\zeta - \\sqrt{\\zeta^{2} - 1}\\right) \\sqrt{\\zeta^{2} - 1}} & \\frac{e^{2 i t}}{4} + \\frac{e^{- 2 i t}}{4} - \\frac{e^{- 2 t \\left(\\zeta + \\sqrt{\\zeta^{2} - 1}\\right)}}{4 \\left(\\zeta + \\sqrt{\\zeta^{2} - 1}\\right) \\sqrt{\\zeta^{2} - 1}} + \\frac{e^{- 2 t \\left(\\zeta - \\sqrt{\\zeta^{2} - 1}\\right)}}{4 \\left(\\zeta - \\sqrt{\\zeta^{2} - 1}\\right) \\sqrt{\\zeta^{2} - 1}} & \\frac{\\left(i \\left(1 - \\zeta^{2}\\right) e^{4 t \\left(\\zeta + i\\right)} + \\sqrt{\\zeta^{2} - 1} e^{2 t \\left(\\zeta - \\sqrt{\\zeta^{2} - 1} + i\\right)} - \\sqrt{\\zeta^{2} - 1} e^{2 t \\left(\\zeta + \\sqrt{\\zeta^{2} - 1} + i\\right)} + i \\left(\\zeta^{2} - 1\\right) e^{4 t \\zeta}\\right) e^{- 2 t \\left(2 \\zeta + i\\right)}}{4 \\left(\\zeta^{2} - 1\\right)} & \\frac{\\left(i \\left(1 - \\zeta^{2}\\right) e^{4 t \\left(\\zeta + i\\right)} - \\sqrt{\\zeta^{2} - 1} e^{2 t \\left(\\zeta - \\sqrt{\\zeta^{2} - 1} + i\\right)} + \\sqrt{\\zeta^{2} - 1} e^{2 t \\left(\\zeta + \\sqrt{\\zeta^{2} - 1} + i\\right)} + i \\left(\\zeta^{2} - 1\\right) e^{4 t \\zeta}\\right) e^{- 2 t \\left(2 \\zeta + i\\right)}}{4 \\left(\\zeta^{2} - 1\\right)}\\\\\\frac{\\left(i \\left(1 - \\zeta^{2}\\right) e^{4 t \\zeta} + \\sqrt{\\zeta^{2} - 1} e^{2 t \\left(\\zeta - \\sqrt{\\zeta^{2} - 1} + i\\right)} - \\sqrt{\\zeta^{2} - 1} e^{2 t \\left(\\zeta + \\sqrt{\\zeta^{2} - 1} + i\\right)} + i \\left(\\zeta^{2} - 1\\right) e^{4 t \\left(\\zeta + i\\right)}\\right) e^{- 2 t \\left(2 \\zeta + i\\right)}}{4 \\left(\\zeta^{2} - 1\\right)} & \\frac{\\left(i \\left(1 - \\zeta^{2}\\right) e^{4 t \\zeta} - \\sqrt{\\zeta^{2} - 1} e^{2 t \\left(\\zeta - \\sqrt{\\zeta^{2} - 1} + i\\right)} + \\sqrt{\\zeta^{2} - 1} e^{2 t \\left(\\zeta + \\sqrt{\\zeta^{2} - 1} + i\\right)} + i \\left(\\zeta^{2} - 1\\right) e^{4 t \\left(\\zeta + i\\right)}\\right) e^{- 2 t \\left(2 \\zeta + i\\right)}}{4 \\left(\\zeta^{2} - 1\\right)} & \\frac{\\left(\\left(- \\zeta + \\sqrt{\\zeta^{2} - 1}\\right) \\sqrt{\\zeta^{2} - 1} e^{2 t \\left(\\zeta + \\sqrt{\\zeta^{2} - 1} + i\\right)} + \\left(\\zeta + \\sqrt{\\zeta^{2} - 1}\\right) \\sqrt{\\zeta^{2} - 1} e^{2 t \\left(\\zeta - \\sqrt{\\zeta^{2} - 1} + i\\right)} + \\left(\\zeta^{2} - 1\\right) e^{4 t \\zeta} + \\left(\\zeta^{2} - 1\\right) e^{4 t \\left(\\zeta + i\\right)}\\right) e^{- 2 t \\left(2 \\zeta + i\\right)}}{4 \\left(\\zeta^{2} - 1\\right)} & \\frac{\\left(\\left(\\zeta - \\sqrt{\\zeta^{2} - 1}\\right) \\sqrt{\\zeta^{2} - 1} e^{2 t \\left(\\zeta + \\sqrt{\\zeta^{2} - 1} + i\\right)} - \\left(\\zeta + \\sqrt{\\zeta^{2} - 1}\\right) \\sqrt{\\zeta^{2} - 1} e^{2 t \\left(\\zeta - \\sqrt{\\zeta^{2} - 1} + i\\right)} + \\left(\\zeta^{2} - 1\\right) e^{4 t \\zeta} + \\left(\\zeta^{2} - 1\\right) e^{4 t \\left(\\zeta + i\\right)}\\right) e^{- 2 t \\left(2 \\zeta + i\\right)}}{4 \\left(\\zeta^{2} - 1\\right)}\\\\\\frac{\\left(i \\left(1 - \\zeta^{2}\\right) e^{4 t \\zeta} - \\sqrt{\\zeta^{2} - 1} e^{2 t \\left(\\zeta - \\sqrt{\\zeta^{2} - 1} + i\\right)} + \\sqrt{\\zeta^{2} - 1} e^{2 t \\left(\\zeta + \\sqrt{\\zeta^{2} - 1} + i\\right)} + i \\left(\\zeta^{2} - 1\\right) e^{4 t \\left(\\zeta + i\\right)}\\right) e^{- 2 t \\left(2 \\zeta + i\\right)}}{4 \\left(\\zeta^{2} - 1\\right)} & \\frac{\\left(i \\left(1 - \\zeta^{2}\\right) e^{4 t \\zeta} + \\sqrt{\\zeta^{2} - 1} e^{2 t \\left(\\zeta - \\sqrt{\\zeta^{2} - 1} + i\\right)} - \\sqrt{\\zeta^{2} - 1} e^{2 t \\left(\\zeta + \\sqrt{\\zeta^{2} - 1} + i\\right)} + i \\left(\\zeta^{2} - 1\\right) e^{4 t \\left(\\zeta + i\\right)}\\right) e^{- 2 t \\left(2 \\zeta + i\\right)}}{4 \\left(\\zeta^{2} - 1\\right)} & \\frac{\\left(\\left(\\zeta - \\sqrt{\\zeta^{2} - 1}\\right) \\sqrt{\\zeta^{2} - 1} e^{2 t \\left(\\zeta + \\sqrt{\\zeta^{2} - 1} + i\\right)} - \\left(\\zeta + \\sqrt{\\zeta^{2} - 1}\\right) \\sqrt{\\zeta^{2} - 1} e^{2 t \\left(\\zeta - \\sqrt{\\zeta^{2} - 1} + i\\right)} + \\left(\\zeta^{2} - 1\\right) e^{4 t \\zeta} + \\left(\\zeta^{2} - 1\\right) e^{4 t \\left(\\zeta + i\\right)}\\right) e^{- 2 t \\left(2 \\zeta + i\\right)}}{4 \\left(\\zeta^{2} - 1\\right)} & \\frac{\\left(\\left(- \\zeta + \\sqrt{\\zeta^{2} - 1}\\right) \\sqrt{\\zeta^{2} - 1} e^{2 t \\left(\\zeta + \\sqrt{\\zeta^{2} - 1} + i\\right)} + \\left(\\zeta + \\sqrt{\\zeta^{2} - 1}\\right) \\sqrt{\\zeta^{2} - 1} e^{2 t \\left(\\zeta - \\sqrt{\\zeta^{2} - 1} + i\\right)} + \\left(\\zeta^{2} - 1\\right) e^{4 t \\zeta} + \\left(\\zeta^{2} - 1\\right) e^{4 t \\left(\\zeta + i\\right)}\\right) e^{- 2 t \\left(2 \\zeta + i\\right)}}{4 \\left(\\zeta^{2} - 1\\right)}\\end{matrix}\\right]\n"
     ]
    }
   ],
   "source": [
    "print(latex(tMexp))"
   ]
  },
  {
   "cell_type": "code",
   "execution_count": 183,
   "metadata": {},
   "outputs": [
    {
     "name": "stdout",
     "output_type": "stream",
     "text": [
      "\\left[\\begin{matrix}\\cos{\\left(2 t \\right)} & 0 & \\sin{\\left(2 t \\right)} & 0\\\\0 & \\cos{\\left(2 t \\right)} & 0 & \\sin{\\left(2 t \\right)}\\\\- \\sin{\\left(2 t \\right)} & 0 & \\cos{\\left(2 t \\right)} & 0\\\\0 & - \\sin{\\left(2 t \\right)} & 0 & \\cos{\\left(2 t \\right)}\\end{matrix}\\right]\n"
     ]
    }
   ],
   "source": [
    "print(latex(tMexpz0))"
   ]
  },
  {
   "cell_type": "code",
   "execution_count": null,
   "metadata": {},
   "outputs": [],
   "source": []
  },
  {
   "cell_type": "code",
   "execution_count": null,
   "metadata": {},
   "outputs": [],
   "source": []
  },
  {
   "cell_type": "code",
   "execution_count": 192,
   "metadata": {},
   "outputs": [
    {
     "name": "stdout",
     "output_type": "stream",
     "text": [
      "\\left[\\begin{matrix}p_{1} \\sin{\\left(2 t \\right)} + q_{1} \\cos{\\left(2 t \\right)}\\\\p_{2} \\sin{\\left(2 t \\right)} + q_{2} \\cos{\\left(2 t \\right)}\\\\p_{1} \\cos{\\left(2 t \\right)} - q_{1} \\sin{\\left(2 t \\right)}\\\\p_{2} \\cos{\\left(2 t \\right)} - q_{2} \\sin{\\left(2 t \\right)}\\end{matrix}\\right]\n"
     ]
    }
   ],
   "source": [
    "print(latex(tMexpz0*v))"
   ]
  },
  {
   "cell_type": "code",
   "execution_count": null,
   "metadata": {},
   "outputs": [],
   "source": []
  },
  {
   "cell_type": "code",
   "execution_count": null,
   "metadata": {},
   "outputs": [],
   "source": []
  },
  {
   "cell_type": "code",
   "execution_count": 193,
   "metadata": {},
   "outputs": [
    {
     "data": {
      "text/latex": [
       "$\\displaystyle e^{- 4 t \\zeta}$"
      ],
      "text/plain": [
       "exp(-4*t*zeta)"
      ]
     },
     "execution_count": 193,
     "metadata": {},
     "output_type": "execute_result"
    }
   ],
   "source": [
    "tMexp.det()"
   ]
  },
  {
   "cell_type": "code",
   "execution_count": null,
   "metadata": {},
   "outputs": [],
   "source": []
  },
  {
   "cell_type": "code",
   "execution_count": 257,
   "metadata": {},
   "outputs": [],
   "source": [
    "q10, q20, p10, p20 = symbols('q10 q20 p10 p20')\n",
    "v0 = Matrix([q10,q20,p10,p20])\n",
    "W = Wild('*')\n",
    "\n",
    "tMexpz05 = simplify(tMexp.subs(z,Number(1)/2))\n",
    "tMexpz02 = simplify(tMexp.subs(z,Number(1)/5))\n",
    "\n",
    "eqns05 = tMexpz05*v0\n",
    "eqns02 = tMexpz02*v0\n",
    "\n",
    "eqns05 = [ simplify(eqn.expand().replace(exp(I*W), cos(W)+ I*sin(W))) for eqn in eqns05 ]\n",
    "eqns02 = [ simplify(eqn.expand().replace(exp(I*W), cos(W)+ I*sin(W))) for eqn in eqns02 ]"
   ]
  },
  {
   "cell_type": "code",
   "execution_count": 258,
   "metadata": {},
   "outputs": [],
   "source": [
    "import math\n",
    "sqrt = math.sqrt\n",
    "q1f05 = eval('lambda q10, q20, p10, p20, t: ' + pycode(eqns05[0]))\n",
    "q2f05 = eval('lambda q10, q20, p10, p20, t: ' + pycode(eqns05[1]))\n",
    "q1f02 = eval('lambda q10, q20, p10, p20, t: ' + pycode(eqns02[0]))\n",
    "q2f02 = eval('lambda q10, q20, p10, p20, t: ' + pycode(eqns02[1]))"
   ]
  },
  {
   "cell_type": "code",
   "execution_count": null,
   "metadata": {},
   "outputs": [],
   "source": []
  },
  {
   "cell_type": "code",
   "execution_count": null,
   "metadata": {},
   "outputs": [],
   "source": []
  },
  {
   "cell_type": "code",
   "execution_count": 259,
   "metadata": {},
   "outputs": [],
   "source": [
    "comb = [[1,1,1,1],[1,1,0,1],[1,0,1,1],[0,1,1,1],[1,1,0,0],[1,0,1,0],[0,1,1,0],[1,0,0,1],[0,1,0,1],[0,0,1,1]]\n",
    "\n",
    "Npts = 200\n",
    "\n",
    "for args in comb:\n",
    "    f05 = open('xfiles_z05_' + ','.join([str(n) for n in args]) + '.dat', 'w')\n",
    "    f02 = open('xfiles_z02_' + ','.join([str(n) for n in args]) + '.dat', 'w')\n",
    "    \n",
    "    for i in range(Npts):\n",
    "        t = i * (4*pi/Npts)\n",
    "        f05.write( str(q1f05(*args,t)) + ' ' + str(q2f05(*args,t)) + '\\n' )\n",
    "        f02.write( str(q1f02(*args,t)) + ' ' + str(q2f02(*args,t)) + '\\n' )\n",
    "        \n",
    "    f05.close()\n",
    "    f02.close()"
   ]
  },
  {
   "cell_type": "code",
   "execution_count": null,
   "metadata": {},
   "outputs": [],
   "source": []
  },
  {
   "cell_type": "code",
   "execution_count": null,
   "metadata": {},
   "outputs": [],
   "source": []
  },
  {
   "cell_type": "code",
   "execution_count": null,
   "metadata": {},
   "outputs": [],
   "source": []
  },
  {
   "cell_type": "code",
   "execution_count": null,
   "metadata": {},
   "outputs": [],
   "source": []
  }
 ],
 "metadata": {
  "kernelspec": {
   "display_name": "Python 3",
   "language": "python",
   "name": "python3"
  },
  "language_info": {
   "codemirror_mode": {
    "name": "ipython",
    "version": 3
   },
   "file_extension": ".py",
   "mimetype": "text/x-python",
   "name": "python",
   "nbconvert_exporter": "python",
   "pygments_lexer": "ipython3",
   "version": "3.6.9"
  }
 },
 "nbformat": 4,
 "nbformat_minor": 2
}
