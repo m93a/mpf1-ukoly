{
 "cells": [
  {
   "cell_type": "code",
   "execution_count": 1,
   "metadata": {},
   "outputs": [],
   "source": [
    "from __future__ import division\n",
    "import sys\n",
    "sys.path.insert(0, \"~/.local/lib/python3.6/site-packages\")\n",
    "\n",
    "import sympy\n",
    "from sympy import *\n",
    "from sympy.physics.quantum import *\n",
    "\n",
    "def express(a, b, name):\n",
    "    sym = symbols(name)\n",
    "    sol = solve(a-sym, b)\n",
    "    assert len(sol) == 1\n",
    "    return (sym, sol[0])"
   ]
  },
  {
   "cell_type": "code",
   "execution_count": 48,
   "metadata": {},
   "outputs": [],
   "source": [
    "t = Symbol('t')\n",
    "z = Symbol('z', is_positive=True)\n",
    "\n",
    "p1, p2, q1, q2 = symbols('p_1 p_2 q_1 q_2')\n",
    "p = Matrix([ p1, p2 ])\n",
    "q = Matrix([ q1, q2 ])\n",
    "\n",
    "H = p1**2 + p2**2 + q1**2 + q2**2\n",
    "\n",
    "v = Matrix([q1,q2,p1,p2])\n",
    "\n",
    "vdot = Matrix(\n",
    "    [ H.diff(pj) for pj in p ]+\n",
    "    [ H.diff(qj) - z*(H.diff(p1) - H.diff(p2)) for qj in q]\n",
    ")"
   ]
  },
  {
   "cell_type": "code",
   "execution_count": 109,
   "metadata": {},
   "outputs": [],
   "source": [
    "M = 2*Matrix([\n",
    "        [0, 0, 1, 0],\n",
    "        [0, 0, 0, 1],\n",
    "        [1, 0,-z, z],\n",
    "        [0, 1,-z, z]\n",
    "    ])\n",
    "\n",
    "assert ( M*v - vdot ).expand().is_zero"
   ]
  },
  {
   "cell_type": "code",
   "execution_count": null,
   "metadata": {},
   "outputs": [],
   "source": []
  },
  {
   "cell_type": "code",
   "execution_count": 115,
   "metadata": {},
   "outputs": [],
   "source": [
    "P, J = (t*M).jordan_form()\n",
    "J = simplify(J)\n",
    "P = simplify(P)\n",
    "P_inv = simplify(P.inv())\n",
    "\n",
    "assert simplify( P*J*P_inv - t*M ).is_zero"
   ]
  },
  {
   "cell_type": "code",
   "execution_count": 116,
   "metadata": {},
   "outputs": [
    {
     "name": "stdout",
     "output_type": "stream",
     "text": [
      "\\left[\\begin{matrix}t z & \\frac{z}{2} - 1 & - t z & \\frac{z}{2} + 1\\\\t z & \\frac{z}{2} & - t z & \\frac{z}{2}\\\\- t z & 1 & - t z & 1\\\\- t z & 0 & - t z & 0\\end{matrix}\\right]\n"
     ]
    }
   ],
   "source": [
    "print(latex(P))"
   ]
  },
  {
   "cell_type": "code",
   "execution_count": 117,
   "metadata": {},
   "outputs": [
    {
     "name": "stdout",
     "output_type": "stream",
     "text": [
      "\\left[\\begin{matrix}- 2 t & 1 & 0 & 0\\\\0 & - 2 t & 0 & 0\\\\0 & 0 & 2 t & 1\\\\0 & 0 & 0 & 2 t\\end{matrix}\\right]\n"
     ]
    }
   ],
   "source": [
    "print(latex(J))"
   ]
  },
  {
   "cell_type": "code",
   "execution_count": 118,
   "metadata": {},
   "outputs": [
    {
     "name": "stdout",
     "output_type": "stream",
     "text": [
      "\\left[\\begin{matrix}0 & \\frac{1}{2 t z} & - \\frac{1}{4 t} & \\frac{z - 2}{4 t z}\\\\- \\frac{1}{2} & \\frac{1}{2} & \\frac{1}{2} & - \\frac{1}{2}\\\\0 & - \\frac{1}{2 t z} & \\frac{1}{4 t} & - \\frac{z + 2}{4 t z}\\\\\\frac{1}{2} & - \\frac{1}{2} & \\frac{1}{2} & - \\frac{1}{2}\\end{matrix}\\right]\n"
     ]
    }
   ],
   "source": [
    "print(latex(P_inv))"
   ]
  },
  {
   "cell_type": "code",
   "execution_count": 102,
   "metadata": {},
   "outputs": [
    {
     "data": {
      "text/latex": [
       "$\\displaystyle \\left[\\begin{matrix}-2 & 1 & 0 & 0\\\\0 & -2 & 0 & 0\\\\0 & 0 & 2 & 1\\\\0 & 0 & 0 & 2\\end{matrix}\\right]$"
      ],
      "text/plain": [
       "Matrix([\n",
       "[-2,  1, 0, 0],\n",
       "[ 0, -2, 0, 0],\n",
       "[ 0,  0, 2, 1],\n",
       "[ 0,  0, 0, 2]])"
      ]
     },
     "execution_count": 102,
     "metadata": {},
     "output_type": "execute_result"
    }
   ],
   "source": [
    "J"
   ]
  },
  {
   "cell_type": "code",
   "execution_count": 103,
   "metadata": {},
   "outputs": [
    {
     "data": {
      "text/latex": [
       "$\\displaystyle \\left[\\begin{matrix}z & \\frac{z}{2} - 1 & - z & \\frac{z}{2} + 1\\\\z & \\frac{z}{2} & - z & \\frac{z}{2}\\\\- z & 1 & - z & 1\\\\- z & 0 & - z & 0\\end{matrix}\\right]$"
      ],
      "text/plain": [
       "Matrix([\n",
       "[ z, z/2 - 1, -z, z/2 + 1],\n",
       "[ z,     z/2, -z,     z/2],\n",
       "[-z,       1, -z,       1],\n",
       "[-z,       0, -z,       0]])"
      ]
     },
     "execution_count": 103,
     "metadata": {},
     "output_type": "execute_result"
    }
   ],
   "source": [
    "P"
   ]
  },
  {
   "cell_type": "code",
   "execution_count": 105,
   "metadata": {},
   "outputs": [],
   "source": [
    "A,B=\\\n",
    "(symbols('c')*Matrix([\n",
    "    [0, 0, 1, 0],\n",
    "    [0, 0, 0, 1],\n",
    "    [1, 0,-z, z],\n",
    "    [0, 1,-z, z]\n",
    "])).jordan_form()"
   ]
  },
  {
   "cell_type": "code",
   "execution_count": null,
   "metadata": {},
   "outputs": [],
   "source": []
  },
  {
   "cell_type": "code",
   "execution_count": null,
   "metadata": {},
   "outputs": [],
   "source": []
  },
  {
   "cell_type": "code",
   "execution_count": null,
   "metadata": {},
   "outputs": [],
   "source": []
  }
 ],
 "metadata": {
  "kernelspec": {
   "display_name": "Python 3",
   "language": "python",
   "name": "python3"
  },
  "language_info": {
   "codemirror_mode": {
    "name": "ipython",
    "version": 3
   },
   "file_extension": ".py",
   "mimetype": "text/x-python",
   "name": "python",
   "nbconvert_exporter": "python",
   "pygments_lexer": "ipython3",
   "version": "3.6.9"
  }
 },
 "nbformat": 4,
 "nbformat_minor": 2
}
